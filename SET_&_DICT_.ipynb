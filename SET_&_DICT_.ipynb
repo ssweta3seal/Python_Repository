{
  "nbformat": 4,
  "nbformat_minor": 0,
  "metadata": {
    "colab": {
      "provenance": [],
      "authorship_tag": "ABX9TyOxJtVH2U2GGqtO+c2+XYKD",
      "include_colab_link": true
    },
    "kernelspec": {
      "name": "python3",
      "display_name": "Python 3"
    },
    "language_info": {
      "name": "python"
    }
  },
  "cells": [
    {
      "cell_type": "markdown",
      "metadata": {
        "id": "view-in-github",
        "colab_type": "text"
      },
      "source": [
        "<a href=\"https://colab.research.google.com/github/ssweta3seal/Python_Repository/blob/main/SET_%26_DICT_.ipynb\" target=\"_parent\"><img src=\"https://colab.research.google.com/assets/colab-badge.svg\" alt=\"Open In Colab\"/></a>"
      ]
    },
    {
      "cell_type": "code",
      "source": [
        "#Write a Python script to sort (ascending and descending) a dictionary by value\n",
        "d={'a': 1, 'b': 2, 'c': 3, 'd': 4, 'e': 5}\n",
        "print(sorted(d.items(),reverse=True))"
      ],
      "metadata": {
        "colab": {
          "base_uri": "https://localhost:8080/"
        },
        "id": "f9vQ9LlDK_4N",
        "outputId": "90cabe42-7423-4877-d4dc-c79898ae6c93"
      },
      "execution_count": null,
      "outputs": [
        {
          "output_type": "stream",
          "name": "stdout",
          "text": [
            "[('e', 5), ('d', 4), ('c', 3), ('b', 2), ('a', 1)]\n"
          ]
        }
      ]
    },
    {
      "cell_type": "code",
      "source": [
        "  d1={'a': 1, 'b': 2, 'c': 3, 'd': 4, 'e': 5}\n",
        "  d2={'b': 2, 'c': 3,}\n",
        "\n",
        "  for keys in (d1.keys() & d2.keys()):\n",
        "    print(keys,'is present')\n",
        "  else:\n",
        "    print('notpresent')"
      ],
      "metadata": {
        "colab": {
          "base_uri": "https://localhost:8080/"
        },
        "id": "zEvdkb24ZDxm",
        "outputId": "9035fc2c-cb90-4b6c-e9a5-db6140d53e51"
      },
      "execution_count": null,
      "outputs": [
        {
          "output_type": "stream",
          "name": "stdout",
          "text": [
            "b is present\n",
            "c is present\n",
            "notpresent\n"
          ]
        }
      ]
    },
    {
      "cell_type": "code",
      "source": [
        "d1= {'a': 1, 'b': 2, 'c': 3, 'd': 4, 'e': 5}\n",
        "d2= {'b': 2, 'c': 3,}\n",
        "for key,values in (d1.items() & d2.items()):\n",
        "  print(key,values, \"present\")"
      ],
      "metadata": {
        "colab": {
          "base_uri": "https://localhost:8080/"
        },
        "id": "i8zThFL-ZD0L",
        "outputId": "ff8e1aa7-70cb-4f95-b749-1f9e66bee0ac"
      },
      "execution_count": null,
      "outputs": [
        {
          "output_type": "stream",
          "name": "stdout",
          "text": [
            "c 3 present\n",
            "b 2 present\n"
          ]
        }
      ]
    },
    {
      "cell_type": "code",
      "source": [
        "d = {'a': [2, 3, 5], 'b': [1, 8, 4], 'c': [9, 0, 1]}\n",
        "\n",
        "for k,v in d.items():\n",
        "  n=sum(v)\n",
        "print(n)"
      ],
      "metadata": {
        "colab": {
          "base_uri": "https://localhost:8080/"
        },
        "id": "5kPLv-i6ZD3n",
        "outputId": "ad652b9b-6bad-44eb-eec3-21ccf7353647"
      },
      "execution_count": 1,
      "outputs": [
        {
          "output_type": "stream",
          "name": "stdout",
          "text": [
            "10\n"
          ]
        }
      ]
    },
    {
      "cell_type": "code",
      "source": [
        "# Write a Python script to merge two Python dictionaries\n",
        "\n",
        "a={'p':1,'k':8,'d':5,'l':6}\n",
        "b={'q':2,'r':9,'s':4,'t':7}\n",
        "for key in b:\n",
        "  a[key]=b[key]\n",
        "print(a)"
      ],
      "metadata": {
        "id": "XPx4OS0nZD5A",
        "colab": {
          "base_uri": "https://localhost:8080/"
        },
        "outputId": "d5e1391c-80e5-4fc3-d068-d40e95e51751"
      },
      "execution_count": null,
      "outputs": [
        {
          "output_type": "stream",
          "name": "stdout",
          "text": [
            "{'p': 1, 'k': 8, 'd': 5, 'l': 6, 'q': 2, 'r': 9, 's': 4, 't': 7}\n"
          ]
        }
      ]
    },
    {
      "cell_type": "code",
      "source": [
        "dict_one = {'a': 1, 'b': 2, 'c': 3, 'd': 4, 'e': 5}\n",
        "dict_two = {'f': 6, 'g': 7, 'h': 8, 'i': 9, 'j': 0}\n",
        "combine_dict={}\n",
        "combine_dict.update(dict_one,**dict_two)\n",
        "print(combine_dict)"
      ],
      "metadata": {
        "id": "OY4duwonZD6y",
        "colab": {
          "base_uri": "https://localhost:8080/"
        },
        "outputId": "6fd4978a-8e7a-4576-8ac2-ffbb7bf17afe"
      },
      "execution_count": null,
      "outputs": [
        {
          "output_type": "stream",
          "name": "stdout",
          "text": [
            "{'a': 1, 'b': 2, 'c': 3, 'd': 4, 'e': 5, 'f': 6, 'g': 7, 'h': 8, 'i': 9, 'j': 0}\n"
          ]
        }
      ]
    },
    {
      "cell_type": "code",
      "source": [
        "#sum all items in a dict\n",
        "a={'p':1,'k':8,'d':5,'l':6}\n",
        "b={'q':2,'r':9,'s':4,'t':7}\n",
        "dict_sum=sum(a.values())\n",
        "print(dict_sum)"
      ],
      "metadata": {
        "id": "g8YmiJ5sZD9V",
        "colab": {
          "base_uri": "https://localhost:8080/"
        },
        "outputId": "92c53881-7e23-4fdf-cdfd-6a90b7573d6e"
      },
      "execution_count": null,
      "outputs": [
        {
          "output_type": "stream",
          "name": "stdout",
          "text": [
            "20\n"
          ]
        }
      ]
    },
    {
      "cell_type": "code",
      "source": [
        "#solution 2\n",
        "dict_sum=0\n",
        "for k,v in a.items():\n",
        "  dict_sum+=v\n",
        "  print(dict_sum)\n"
      ],
      "metadata": {
        "colab": {
          "base_uri": "https://localhost:8080/"
        },
        "id": "6CUd7n-DczRQ",
        "outputId": "45413d4b-749d-4a04-c702-b8303ffc4511"
      },
      "execution_count": null,
      "outputs": [
        {
          "output_type": "stream",
          "name": "stdout",
          "text": [
            "8\n",
            "13\n",
            "19\n"
          ]
        }
      ]
    },
    {
      "cell_type": "code",
      "source": [
        "#python program to remove a key \n",
        "a={'p':1,'k':8,'d':5,'l':6}\n",
        "a.pop('p',0)"
      ],
      "metadata": {
        "id": "a3wpM0jIZEAR",
        "colab": {
          "base_uri": "https://localhost:8080/"
        },
        "outputId": "d3c187f2-f79f-404d-d10c-2cc2782771b3"
      },
      "execution_count": null,
      "outputs": [
        {
          "output_type": "execute_result",
          "data": {
            "text/plain": [
              "1"
            ]
          },
          "metadata": {},
          "execution_count": 10
        }
      ]
    },
    {
      "cell_type": "code",
      "source": [
        "#sort dict\n",
        "my_dict = {'a': 1, 'b': 2, 'c': 3, 'd': 4, 'e': 5}\n",
        "for key in sorted(my_dict.keys()):\n",
        "  print(my_dict[key])"
      ],
      "metadata": {
        "colab": {
          "base_uri": "https://localhost:8080/"
        },
        "id": "ajCMzyrOZ79g",
        "outputId": "7a439fcf-c716-4d66-c059-6c974617acb4"
      },
      "execution_count": null,
      "outputs": [
        {
          "output_type": "stream",
          "name": "stdout",
          "text": [
            "1\n",
            "2\n",
            "3\n",
            "4\n",
            "5\n"
          ]
        }
      ]
    },
    {
      "cell_type": "code",
      "source": [],
      "metadata": {
        "id": "dPdrpP0vZ8AI"
      },
      "execution_count": null,
      "outputs": []
    },
    {
      "cell_type": "code",
      "source": [],
      "metadata": {
        "id": "kycyM34-Z8Cj"
      },
      "execution_count": null,
      "outputs": []
    },
    {
      "cell_type": "code",
      "source": [],
      "metadata": {
        "id": "SqWxyArTZ8FG"
      },
      "execution_count": null,
      "outputs": []
    },
    {
      "cell_type": "code",
      "source": [],
      "metadata": {
        "id": "J6zDZa8eZ8JH"
      },
      "execution_count": null,
      "outputs": []
    },
    {
      "cell_type": "code",
      "execution_count": null,
      "metadata": {
        "colab": {
          "base_uri": "https://localhost:8080/"
        },
        "id": "YoBQpXE8Fr_W",
        "outputId": "a8991f95-d270-4c96-ec4e-81c305330da6"
      },
      "outputs": [
        {
          "output_type": "stream",
          "name": "stdout",
          "text": [
            "set() <class 'set'>\n",
            "{'b', 'a'} <class 'set'>\n"
          ]
        }
      ],
      "source": [
        "my_set = set()\n",
        "my_second_set = {'a', 'b'}\n",
        "print(my_set, type(my_set))\n",
        "print(my_second_set, type(my_second_set))"
      ]
    },
    {
      "cell_type": "code",
      "source": [
        "my_set = {'a', 'b','c'}\n",
        "my_set.pop()\n",
        "print(my_set)"
      ],
      "metadata": {
        "colab": {
          "base_uri": "https://localhost:8080/"
        },
        "id": "wa2e3PUHKX69",
        "outputId": "079eb7d8-5860-43b0-e3d9-69c46ee9d9e9"
      },
      "execution_count": null,
      "outputs": [
        {
          "output_type": "stream",
          "name": "stdout",
          "text": [
            "{'a', 'c'}\n"
          ]
        }
      ]
    }
  ]
}