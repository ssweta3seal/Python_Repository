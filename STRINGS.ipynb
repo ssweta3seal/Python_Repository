{
  "nbformat": 4,
  "nbformat_minor": 0,
  "metadata": {
    "colab": {
      "provenance": [],
      "authorship_tag": "ABX9TyOkI0JIVN9OVoCwX++laTtU",
      "include_colab_link": true
    },
    "kernelspec": {
      "name": "python3",
      "display_name": "Python 3"
    },
    "language_info": {
      "name": "python"
    }
  },
  "cells": [
    {
      "cell_type": "markdown",
      "metadata": {
        "id": "view-in-github",
        "colab_type": "text"
      },
      "source": [
        "<a href=\"https://colab.research.google.com/github/ssweta3seal/Python_Repository/blob/main/STRINGS.ipynb\" target=\"_parent\"><img src=\"https://colab.research.google.com/assets/colab-badge.svg\" alt=\"Open In Colab\"/></a>"
      ]
    },
    {
      "cell_type": "code",
      "execution_count": null,
      "metadata": {
        "colab": {
          "base_uri": "https://localhost:8080/"
        },
        "id": "XnSg4uSQtUvW",
        "outputId": "e1eadb93-6bc1-46fe-c97c-234cc72456bd"
      },
      "outputs": [
        {
          "output_type": "stream",
          "name": "stdout",
          "text": [
            "w3es\n"
          ]
        }
      ],
      "source": [
        "#Write a program to get a string made of the first 2 and the last 2 chars from a given string.If the string length is less than 2,return'empty string'\n",
        "a='w3resources'\n",
        "if len(a)>1:\n",
        "  print(a[0:2]+a[-2:])\n",
        "else:\n",
        "  print('Empty')"
      ]
    },
    {
      "cell_type": "code",
      "source": [
        "#Write a Python program to split a string on the last occurrence of the 'delimiter'.\n",
        "\n",
        "my_string = 'this is some text with space as a delimeter'\n",
        "print(my_string.rsplit(maxsplit=1))"
      ],
      "metadata": {
        "colab": {
          "base_uri": "https://localhost:8080/"
        },
        "id": "bOnOb9imtdYB",
        "outputId": "69666750-7570-447f-e8d9-1c646f106739"
      },
      "execution_count": null,
      "outputs": [
        {
          "output_type": "stream",
          "name": "stdout",
          "text": [
            "['this is some text with space as a', 'delimeter']\n"
          ]
        }
      ]
    },
    {
      "cell_type": "code",
      "source": [
        "vowels = 'aeiouy'\n",
        "my_string = input().lower()\n",
        "my_list = [(x, my_string.count(x)) for x in my_string if x in vowels]\n",
        "print(set(my_list))"
      ],
      "metadata": {
        "colab": {
          "base_uri": "https://localhost:8080/"
        },
        "id": "qI1lQ0TEupXE",
        "outputId": "3a3c0ec1-01cd-4349-9696-407460bd9b75"
      },
      "execution_count": null,
      "outputs": [
        {
          "output_type": "stream",
          "name": "stdout",
          "text": [
            "google\n",
            "{('e', 1), ('o', 2)}\n"
          ]
        }
      ]
    },
    {
      "cell_type": "code",
      "source": [
        "'''\n",
        " Write a Python program to swap comma and dot in a string. Go to the editor\n",
        "Sample string: \"32.054,23\"\n",
        "Expected Output: \"32,054.23\"\n",
        "'''\n",
        "string= \"32.054,23\"\n",
        "string.replace(\",\",\".\")"
      ],
      "metadata": {
        "colab": {
          "base_uri": "https://localhost:8080/",
          "height": 35
        },
        "id": "1lWZimgWu1BB",
        "outputId": "805df831-07f9-448a-ed39-13ff98086125"
      },
      "execution_count": null,
      "outputs": [
        {
          "output_type": "execute_result",
          "data": {
            "text/plain": [
              "'32.054.23'"
            ],
            "application/vnd.google.colaboratory.intrinsic+json": {
              "type": "string"
            }
          },
          "metadata": {},
          "execution_count": 8
        }
      ]
    },
    {
      "cell_type": "code",
      "source": [
        "# solution 2\n",
        "my_string = '32.054,23'\n",
        "print(my_string)\n",
        "swap = str.maketrans(',.', '.,')\n",
        "new_string = my_string.translate(swap)\n",
        "print(new_string)"
      ],
      "metadata": {
        "colab": {
          "base_uri": "https://localhost:8080/"
        },
        "id": "V2cKHnmRvTok",
        "outputId": "0c087d60-6738-4632-a5a4-d6b0edf9704c"
      },
      "execution_count": null,
      "outputs": [
        {
          "output_type": "stream",
          "name": "stdout",
          "text": [
            "32.054,23\n",
            "32,054.23\n"
          ]
        }
      ]
    },
    {
      "cell_type": "code",
      "source": [
        "my_list = my_string.split('.')\n",
        "new_list = []\n",
        "for i in my_list:\n",
        "    new_list.append(i.replace(',','.'))\n",
        "new_string = ','.join(new_list)\n",
        "print(new_string)"
      ],
      "metadata": {
        "colab": {
          "base_uri": "https://localhost:8080/"
        },
        "id": "zFAxec1iv7P7",
        "outputId": "44f42686-7a46-4f0c-e49e-43e78b3889e7"
      },
      "execution_count": null,
      "outputs": [
        {
          "output_type": "stream",
          "name": "stdout",
          "text": [
            "32,054.23\n"
          ]
        }
      ]
    },
    {
      "cell_type": "code",
      "source": [
        "# Write a Python program to lowercase first n characters in a string\n",
        "string=\"SWEta\"\n",
        "n=3\n",
        "string[:n].lower()+string[n:]"
      ],
      "metadata": {
        "colab": {
          "base_uri": "https://localhost:8080/",
          "height": 35
        },
        "id": "tiT8NothwEHo",
        "outputId": "06733523-9233-4add-99c2-a10a1fc19b44"
      },
      "execution_count": null,
      "outputs": [
        {
          "output_type": "execute_result",
          "data": {
            "text/plain": [
              "'sweta'"
            ],
            "application/vnd.google.colaboratory.intrinsic+json": {
              "type": "string"
            }
          },
          "metadata": {},
          "execution_count": 17
        }
      ]
    },
    {
      "cell_type": "code",
      "source": [
        " #Write a Python program to check if a string contains all letters of the alphabet\n",
        "alpha='abcdefghijklmnopqrstuvwxyz'\n",
        "string=input().lower()\n",
        "count=0\n",
        "for i in alpha:\n",
        "  if i in string:\n",
        "    count+=1\n",
        "  else:\n",
        "    break\n",
        "if count==26:\n",
        "    print('all')\n",
        "else:\n",
        "    print(\"incomplete\")\n"
      ],
      "metadata": {
        "colab": {
          "base_uri": "https://localhost:8080/"
        },
        "id": "4uhK0UqxxLaW",
        "outputId": "879e69c4-6cb4-4422-90b9-c7a69c4917e8"
      },
      "execution_count": null,
      "outputs": [
        {
          "output_type": "stream",
          "name": "stdout",
          "text": [
            "xyzabcdefghijklmnopqrstuvw\n",
            "all\n"
          ]
        }
      ]
    },
    {
      "cell_type": "code",
      "source": [
        "#Write a Python program to print the index of the character in a string. \n",
        "string='w3resource'\n",
        "for i,j in enumerate(string):#This enumerated object can then be used directly for loops or converted into a list of tuples using the list() method.\n",
        "  print(i,j)\n"
      ],
      "metadata": {
        "colab": {
          "base_uri": "https://localhost:8080/"
        },
        "id": "KFDBvsX01s-A",
        "outputId": "0d689261-72a0-421d-a991-120eaecadc4f"
      },
      "execution_count": null,
      "outputs": [
        {
          "output_type": "stream",
          "name": "stdout",
          "text": [
            "0 w\n",
            "1 3\n",
            "2 r\n",
            "3 e\n",
            "4 s\n",
            "5 o\n",
            "6 u\n",
            "7 r\n",
            "8 c\n",
            "9 e\n"
          ]
        }
      ]
    },
    {
      "cell_type": "code",
      "source": [
        "#Write a Python program to get a single string from two given strings,separated by a space and swap the first two characters of each string. \n",
        "'''Sample String : 'abc', 'xyz' \n",
        "Expected Result : 'xyc abz'''\n",
        "string1 = 'abc '\n",
        "string2='xyz'\n",
        "string=string1=string1[:2]+string2[2:]+''+string2[:2]+string1[2:]\n",
        "print(string)"
      ],
      "metadata": {
        "colab": {
          "base_uri": "https://localhost:8080/"
        },
        "id": "iZY1e_FE7EhX",
        "outputId": "2faf080e-8ca3-4fef-d9e8-91811aa02785"
      },
      "execution_count": null,
      "outputs": [
        {
          "output_type": "stream",
          "name": "stdout",
          "text": [
            "abzxyc \n"
          ]
        }
      ]
    },
    {
      "cell_type": "code",
      "source": [
        "#Write a Python program to get a string from a given string where all occurrences of its first char have been changed to '$', except the first char itself. \n",
        "my_string = 'restart'\n",
        "#Expected Result : 'resta$t\n",
        "a=string[0]\n",
        "#string=input()\n",
        "new_string = my_string[0] #r\n",
        "for i in range(1, len(my_string)): # (1,7)\n",
        "    if my_string[i] == my_string[0]: \n",
        "        new_string += '$' #explain\n",
        "    else:\n",
        "        new_string += my_string[i] #explain\n",
        "print(new_string)"
      ],
      "metadata": {
        "colab": {
          "base_uri": "https://localhost:8080/"
        },
        "id": "Y4v8mqgSED8k",
        "outputId": "8eb17417-aa1f-44d3-bf17-2032ab2b4eb8"
      },
      "execution_count": null,
      "outputs": [
        {
          "output_type": "stream",
          "name": "stdout",
          "text": [
            "resta$t\n"
          ]
        }
      ]
    },
    {
      "cell_type": "code",
      "source": [
        "#Write a Python function that takes a list of words and returns the length of the longest one\n",
        "lst=['mayank','sweta','sarthak','nicks']\n",
        "a=[]\n",
        "for i in lst:\n",
        "  a.append(len(i))\n",
        "  a.sort()\n",
        "print(a[-1])"
      ],
      "metadata": {
        "colab": {
          "base_uri": "https://localhost:8080/"
        },
        "id": "tlDHfGuILORR",
        "outputId": "362f4628-de44-4c34-e56e-6f5954083fb1"
      },
      "execution_count": null,
      "outputs": [
        {
          "output_type": "stream",
          "name": "stdout",
          "text": [
            "7\n"
          ]
        }
      ]
    },
    {
      "cell_type": "code",
      "source": [
        "my_words = input(\"enter a few words \")\n",
        "\n",
        "# solution 1\n",
        "my_list = my_words.split()\n",
        "\n",
        "max_len = 0\n",
        "for word in my_list:\n",
        "    if len(word) > max_len:\n",
        "        max_len = len(word)\n",
        "\n",
        "print(max_len)"
      ],
      "metadata": {
        "id": "TNYL_tezaszj"
      },
      "execution_count": null,
      "outputs": []
    },
    {
      "cell_type": "code",
      "source": [
        "#Write a Python program to change a given string to a new string where the first and last chars have been exchanged\n",
        "string='aditi'\n",
        "string[-1]+string[1:-1]+string[0]"
      ],
      "metadata": {
        "colab": {
          "base_uri": "https://localhost:8080/",
          "height": 35
        },
        "id": "GaIghnjgaswn",
        "outputId": "413bfac1-36f1-4abc-eabc-eb8a2057098e"
      },
      "execution_count": null,
      "outputs": [
        {
          "output_type": "execute_result",
          "data": {
            "text/plain": [
              "'idita'"
            ],
            "application/vnd.google.colaboratory.intrinsic+json": {
              "type": "string"
            }
          },
          "metadata": {},
          "execution_count": 90
        }
      ]
    },
    {
      "cell_type": "code",
      "source": [
        "#Write a Python program to remove the characters which have odd index values of a given string\n",
        "a=[]\n",
        "for i in range(len(string)):\n",
        "  if i%2==0:\n",
        "    a.append(i)\n",
        "print(a)    "
      ],
      "metadata": {
        "colab": {
          "base_uri": "https://localhost:8080/"
        },
        "id": "qb6Ty5dLassI",
        "outputId": "41dfab7d-844b-446b-aa7b-fa4f474c560f"
      },
      "execution_count": null,
      "outputs": [
        {
          "output_type": "stream",
          "name": "stdout",
          "text": [
            "[0, 2, 4]\n"
          ]
        }
      ]
    },
    {
      "cell_type": "code",
      "source": [
        "#Write a Python program to count the occurrences of each word in a given sentence\n",
        "a=input().split()\n",
        "s=set(a)\n",
        "d={}\n",
        "for i in s:\n",
        "  b=a.count(i)\n",
        "  d[i]=b\n",
        "print(d)"
      ],
      "metadata": {
        "colab": {
          "base_uri": "https://localhost:8080/"
        },
        "id": "EWAVdHaIedJH",
        "outputId": "bbbf8043-a5e8-4d4e-bfc9-8029e023eb53"
      },
      "execution_count": null,
      "outputs": [
        {
          "output_type": "stream",
          "name": "stdout",
          "text": [
            "emma is a the if is a\n",
            "{'is': 2, 'emma': 1, 'the': 1, 'a': 2, 'if': 1}\n"
          ]
        }
      ]
    },
    {
      "cell_type": "code",
      "source": [
        " #Write a Python function to convert a given string to all uppercase if it contains at least 2 uppercase characters in the first 4 characters.\n",
        "\n",
        "def to_upper(my_string):\n",
        "    counter = 0\n",
        "    for i in my_string[:4]:\n",
        "        if i.isupper():\n",
        "            counter += 1\n",
        "    if counter > 1:\n",
        "        return my_string.upper()\n",
        "    else:\n",
        "        return my_string\n",
        "\n",
        "my_string = input(\"enter a string \")\n",
        "print(to_upper(my_string))\n"
      ],
      "metadata": {
        "colab": {
          "base_uri": "https://localhost:8080/"
        },
        "id": "YMezWMmBtWYP",
        "outputId": "9d7dbea7-7e47-452d-cf92-38b11a897b17"
      },
      "execution_count": null,
      "outputs": [
        {
          "output_type": "stream",
          "name": "stdout",
          "text": [
            "enter a string UPper\n",
            "UPPER\n"
          ]
        }
      ]
    },
    {
      "cell_type": "code",
      "source": [
        "#Write a Python function to reverses a string if it's length is a multiple of 4\n",
        "\n",
        "def reverse (string):\n",
        "    if len(string)/4==1:\n",
        "      return reversed(string)\n",
        "    else:\n",
        "      return(string)\n",
        "a=\"Pyth programs to addi\"\n",
        "\n",
        "reverse (a)"
      ],
      "metadata": {
        "colab": {
          "base_uri": "https://localhost:8080/",
          "height": 35
        },
        "id": "EQo-0PxOnfVZ",
        "outputId": "8079cf0f-3372-495e-ce9c-10a482222aa4"
      },
      "execution_count": null,
      "outputs": [
        {
          "output_type": "execute_result",
          "data": {
            "text/plain": [
              "'Pyth programs to addi'"
            ],
            "application/vnd.google.colaboratory.intrinsic+json": {
              "type": "string"
            }
          },
          "metadata": {},
          "execution_count": 106
        }
      ]
    },
    {
      "cell_type": "code",
      "source": [
        "'''\n",
        "Write a Python program to add 'ing' at the end of a given string(length should be at least 3). If the given string already ends with 'ing'\n",
        "then add 'ly' instead. If the string length of the given string is less than 3, leave it unchanged.  \n",
        "Sample String : 'abc'\n",
        "Expected Result : 'abcing' \n",
        "Sample String : 'string'\n",
        "Expected Result : 'stringly'\n",
        "'''\n",
        "string=input()\n",
        "a=len(string)\n",
        "n=2\n",
        "if a > n:\n",
        "  if string.endswith('ing'):\n",
        "    print(string+'ly')\n",
        "  else:\n",
        "    print(string+'ing')\n",
        "else:\n",
        "  print(string)"
      ],
      "metadata": {
        "colab": {
          "base_uri": "https://localhost:8080/"
        },
        "id": "QgXuCRH-ED6T",
        "outputId": "49bdaf3c-8dbf-4cc1-c9f1-e5e7f19c8e89"
      },
      "execution_count": null,
      "outputs": [
        {
          "output_type": "stream",
          "name": "stdout",
          "text": [
            "lu\n",
            "lu\n"
          ]
        }
      ]
    },
    {
      "cell_type": "code",
      "source": [
        "# solution 2\n",
        "my_string=input()\n",
        "if len(my_string) < 3:\n",
        "    new_string = my_string\n",
        "elif my_string[-3:] == 'ing':\n",
        "    new_string = my_string + 'ly'\n",
        "else:\n",
        "    new_string = my_string + 'ing'\n",
        "print (new_string)"
      ],
      "metadata": {
        "colab": {
          "base_uri": "https://localhost:8080/"
        },
        "id": "ef8mBNVBED3s",
        "outputId": "041657db-ee84-440d-f238-dc1c575729a5"
      },
      "execution_count": null,
      "outputs": [
        {
          "output_type": "stream",
          "name": "stdout",
          "text": [
            "restarting\n"
          ]
        }
      ]
    },
    {
      "cell_type": "code",
      "source": [
        "'''\n",
        "Write a Python program to find the first appearance of the substring 'not' and 'poor' from a given string, if 'poor' follows the 'not', replace\n",
        "the whole 'not'...'poor' substring with 'good'. Return the resulting string.\n",
        "Sample String : 'The lyrics is not that poor!'\n",
        "Expected Result : 'The lyrics is good!'\n",
        "'''\n",
        "string='The lyrics is not that poor!'\n",
        "not_pos=string.find('not')\n",
        "poor_pos=string.find('poor')\n",
        "\n",
        "if not_pos<poor_pos:\n",
        "  new_string = string.replace(string[not_pos:(poor_pos+4)], 'good')\n",
        "else:\n",
        "  new_string=string\n",
        "print(new_string)\n"
      ],
      "metadata": {
        "colab": {
          "base_uri": "https://localhost:8080/"
        },
        "id": "YH5ohCrHLZRW",
        "outputId": "cd3cc522-b06e-445f-b69c-7c1fe2f0c6b8"
      },
      "execution_count": null,
      "outputs": [
        {
          "output_type": "stream",
          "name": "stdout",
          "text": [
            "The lyrics is good!\n"
          ]
        }
      ]
    },
    {
      "cell_type": "code",
      "source": [],
      "metadata": {
        "colab": {
          "base_uri": "https://localhost:8080/"
        },
        "id": "hl-r1fsvPefE",
        "outputId": "fd7f8a56-a97e-457e-9372-5319cf82291c"
      },
      "execution_count": null,
      "outputs": [
        {
          "output_type": "stream",
          "name": "stdout",
          "text": [
            "23\n"
          ]
        }
      ]
    },
    {
      "cell_type": "code",
      "source": [
        "'''\n",
        "Write a Python program to create a Caesar encryption. \n",
        "Note : In cryptography, a Caesar cipher, also known as Caesar's cipher,the shift cipher, Caesar's code or Caesar shift, is one of the simplest\n",
        "and most widely known encryption techniques. It is a type of substitution cipher in which each letter in the plaintext is replaced by a letter some\n",
        "fixed number of positions down the alphabet. For example, with a left shift of 3,D would be replaced by A, E would become B, and so on. The method is named\n",
        "after Julius Caesar, who used it in his private correspondence.\n",
        "'''\n",
        "def Caesar_encryption(my_string, my_shift, my_side):\n",
        "    # for decription need to use negative shift(step) or same shift opposite side\n",
        "    step = my_shift\n",
        "    shift_side = my_side\n",
        "    new_string = ''\n",
        "    for letter in my_string:\n",
        "        letter_ord = ord(letter)\n",
        "        if letter.islower():\n",
        "            if shift_side == 'left':\n",
        "                if (letter_ord-step) < ord('a'):\n",
        "                    letter_ord += 26\n",
        "                new_string += chr(letter_ord-step)\n",
        "            elif shift_side == 'right':\n",
        "                if (letter_ord+step) > ord('z'):\n",
        "                    letter_ord -= 26\n",
        "                new_string += chr(letter_ord+step)\n",
        "        if letter.isupper():\n",
        "            if shift_side == 'left':\n",
        "                if (letter_ord-step) < ord('A'):\n",
        "                    letter_ord += 26\n",
        "                new_string += chr(letter_ord-step)\n",
        "            elif shift_side == 'right':\n",
        "                if (letter_ord+step) > ord('Z'):\n",
        "                    letter_ord -= 26\n",
        "                new_string += chr(letter_ord+step)\n",
        "    return new_string\n",
        "\n",
        "my_string = input(\"enter a string \")\n",
        "my_shift = int(input(\"enter shift number \"))\n",
        "my_side = input(\"enter 'left' for left shift or 'right' for right shift \")\n",
        "print(\"encrepted string is\", Caesar_encryption(my_string, my_shift, my_side))\n"
      ],
      "metadata": {
        "colab": {
          "base_uri": "https://localhost:8080/"
        },
        "id": "6yK6Ax1W7Ekb",
        "outputId": "587dc5ec-ab29-4a71-e8d7-6a5619bb42b5"
      },
      "execution_count": null,
      "outputs": [
        {
          "output_type": "stream",
          "name": "stdout",
          "text": [
            "enter a string In cryptography, a Caesar cipher, also known as Caesar's cipher, the shift cipher, Caesar's code or Caesar shift, is one of the simplest and most widely known encryption techniques. It is a type of substitution cipher in which each letter in the plaintext is replaced by a letter some fixed number of positions down the alphabet. For example, with a left shift of 3, D would be replaced by A, E would become B, and so on. The method is named after Julius Caesar, who used it in his private correspondence\n",
            "enter shift number 10\n",
            "enter 'left' for left shift or 'right' for right shift left\n",
            "encrepted string is YdshofjewhqfxoqSquiqhsyfxuhqbieademdqiSquiqhisyfxuhjxuixyvjsyfxuhSquiqhisetuehSquiqhixyvjyieduevjxuiycfbuijqdtceijmytuboademdudshofjyedjusxdygkuiYjyiqjofuevikrijyjkjyedsyfxuhydmxysxuqsxbujjuhydjxufbqydjunjyihufbqsutroqbujjuhiecuvynutdkcruhevfeiyjyeditemdjxuqbfxqrujVehunqcfbumyjxqbuvjixyvjevTmekbtruhufbqsutroQUmekbtrusecuRqdtieedJxucujxetyidqcutqvjuhZkbykiSquiqhmxekiutyjydxyifhylqjusehhuifedtudsu\n"
          ]
        }
      ]
    },
    {
      "cell_type": "code",
      "source": [],
      "metadata": {
        "id": "rHU584uQ7EfZ"
      },
      "execution_count": null,
      "outputs": []
    },
    {
      "cell_type": "code",
      "source": [
        "#.Write a Python program to print the square and cube symbol in the area of a rectangle and volume of a cylinder\n",
        "from math import pi\n",
        "\n",
        "def rectangle_area(length, width):\n",
        "    return length*width\n",
        "\n",
        "def cylinder_volume(r, height):\n",
        "    return pi*r*r*height\n",
        "\n",
        "# solution 1 using unicode superscript\n",
        "print('The area of the rectangle is %.2f cm\\u00B2' % rectangle_area(5.5, 7))\n",
        "print('The volume of the cylinder is %.2f cm\\u00B3' % cylinder_volume(5.5, 7))"
      ],
      "metadata": {
        "colab": {
          "base_uri": "https://localhost:8080/"
        },
        "id": "Gb8BeIVV2yZe",
        "outputId": "214a9cef-d430-4fb8-b597-7ce366d62d12"
      },
      "execution_count": null,
      "outputs": [
        {
          "output_type": "stream",
          "name": "stdout",
          "text": [
            "The area of the rectangle is 38.50 cm²\n",
            "The volume of the cylinder is 665.23 cm³\n"
          ]
        }
      ]
    },
    {
      "cell_type": "code",
      "source": [
        "#Write a Python program to strip a set of characters from a string\n",
        "a='swetaseal03@gmail.com'\n",
        "print(a.strip('@gmail.com'))"
      ],
      "metadata": {
        "colab": {
          "base_uri": "https://localhost:8080/"
        },
        "id": "Nj5Y7iyi3yaA",
        "outputId": "37705f19-af60-4ac0-f558-e4364b16ec3a"
      },
      "execution_count": null,
      "outputs": [
        {
          "output_type": "stream",
          "name": "stdout",
          "text": [
            "swetaseal03\n"
          ]
        }
      ]
    },
    {
      "cell_type": "code",
      "source": [
        "#reverse a string other than slicing\n",
        "print(''.join(reversed(a)))\n"
      ],
      "metadata": {
        "colab": {
          "base_uri": "https://localhost:8080/"
        },
        "id": "t8lgLff96k3K",
        "outputId": "72050330-2ed0-4d12-e9f9-43097de00088"
      },
      "execution_count": null,
      "outputs": [
        {
          "output_type": "stream",
          "name": "stdout",
          "text": [
            "moc.liamg@30laesatews\n"
          ]
        }
      ]
    },
    {
      "cell_type": "code",
      "source": [
        "#reverse list\n",
        "lst=\"i am a data sc\"\n",
        "b=list(lst)\n",
        "b.reverse()\n",
        "print(''.join(b))"
      ],
      "metadata": {
        "colab": {
          "base_uri": "https://localhost:8080/"
        },
        "id": "Z3Jglgkj7VbQ",
        "outputId": "70ea966a-b6bc-457f-aad8-34c4d9106e59"
      },
      "execution_count": null,
      "outputs": [
        {
          "output_type": "stream",
          "name": "stdout",
          "text": [
            "cs atad a ma i\n"
          ]
        }
      ]
    },
    {
      "cell_type": "code",
      "source": [
        "# Write a Python program to format a number with a percentage\n",
        "\n",
        "\n",
        "my_num = float(input(\"enter a number \"))\n",
        "\n",
        "print('{:.2%}'.format(my_num))"
      ],
      "metadata": {
        "colab": {
          "base_uri": "https://localhost:8080/"
        },
        "id": "tJwfQlfV-gg1",
        "outputId": "ca755699-e9fc-4458-c60d-afb77833bc99"
      },
      "execution_count": null,
      "outputs": [
        {
          "output_type": "stream",
          "name": "stdout",
          "text": [
            "enter a number 56.2397\n",
            "5623.97%\n"
          ]
        }
      ]
    },
    {
      "cell_type": "code",
      "source": [
        "# Write a Python program to print the following integers with '*' on the right of specified width.\n",
        "\n",
        "\n",
        "my_string = input(\"enter an integer \")\n",
        "\n",
        "print('{:*<5s}'.format(my_string))"
      ],
      "metadata": {
        "colab": {
          "base_uri": "https://localhost:8080/"
        },
        "id": "ikF02PnH-ziM",
        "outputId": "16b352ce-c670-41ca-c876-512e8c4bebdb"
      },
      "execution_count": null,
      "outputs": [
        {
          "output_type": "stream",
          "name": "stdout",
          "text": [
            "enter an integer 52\n",
            "52***\n"
          ]
        }
      ]
    },
    {
      "cell_type": "code",
      "source": [
        "#Write a Python program to display a number with a comma separator.\n",
        "\n",
        "\n",
        "my_int = int(input(\"enter a number \"))\n",
        "\n",
        "print('{:,}'.format(my_int))"
      ],
      "metadata": {
        "colab": {
          "base_uri": "https://localhost:8080/"
        },
        "id": "q6yhC8-S-mMW",
        "outputId": "7a85be10-0c3e-4815-c815-720d7e680e50"
      },
      "execution_count": null,
      "outputs": [
        {
          "output_type": "stream",
          "name": "stdout",
          "text": [
            "enter a number 58\n",
            "58\n"
          ]
        }
      ]
    },
    {
      "cell_type": "code",
      "source": [
        "525#Write a Python program to display a number in left,right and center aligned of width 10\n",
        "\n",
        "my_num = float(input(\"enter a number \"))\n",
        "\n",
        "print('{:<10}'.format(my_num))\n",
        "print('{:>10}'.format(my_num))\n",
        "print('{:^10}'.format(my_num))"
      ],
      "metadata": {
        "colab": {
          "base_uri": "https://localhost:8080/"
        },
        "id": "-A5oDz9c8Vym",
        "outputId": "f8119bc4-e17b-4e2c-e2ef-6c0522ddd569"
      },
      "execution_count": null,
      "outputs": [
        {
          "output_type": "stream",
          "name": "stdout",
          "text": [
            "enter a number 235.5885\n",
            "235.5885  \n",
            "  235.5885\n",
            " 235.5885 \n"
          ]
        }
      ]
    },
    {
      "cell_type": "code",
      "source": [],
      "metadata": {
        "id": "vw_lIyJxSO50"
      },
      "execution_count": null,
      "outputs": []
    }
  ]
}