{
  "nbformat": 4,
  "nbformat_minor": 0,
  "metadata": {
    "colab": {
      "provenance": [],
      "authorship_tag": "ABX9TyOVukJyEFzZznPjUgVBiGjn",
      "include_colab_link": true
    },
    "kernelspec": {
      "name": "python3",
      "display_name": "Python 3"
    },
    "language_info": {
      "name": "python"
    }
  },
  "cells": [
    {
      "cell_type": "markdown",
      "metadata": {
        "id": "view-in-github",
        "colab_type": "text"
      },
      "source": [
        "<a href=\"https://colab.research.google.com/github/ssweta3seal/Python_Repository/blob/main/Programs_on_loops_.ipynb\" target=\"_parent\"><img src=\"https://colab.research.google.com/assets/colab-badge.svg\" alt=\"Open In Colab\"/></a>"
      ]
    },
    {
      "cell_type": "code",
      "source": [
        "world_cups = {2019 : ['England', 'New-Zeland'], 2015:[\"Australia\", \"New Zeland\"], 2011 : [\"India\", \"Sri Lanka\"], 2007: [\"Australia\", \"Sri Lanka\"], 2003: [\"Australia\", \"India\"]}\n",
        "\n",
        "year = int(input(\"Enter year to check India made it to Finals in 20th century : \"))\n",
        "\n",
        "if year in world_cups :\n",
        "    if \"India\" in world_cups[year] :\n",
        "        print(\"India made it to Finals\")\n",
        "    else:\n",
        "        print(\"India could not make it to Finals\")\n",
        "        \n",
        "else:\n",
        "    print(\"World cup wasnt played in\", year)\n"
      ],
      "metadata": {
        "colab": {
          "base_uri": "https://localhost:8080/"
        },
        "id": "DSSoEvvEIqPx",
        "outputId": "882e6d60-ffcc-411d-b91f-124c83dbb020"
      },
      "execution_count": null,
      "outputs": [
        {
          "output_type": "stream",
          "name": "stdout",
          "text": [
            "Enter year to check India made it to Finals in 20th century : 2007\n",
            "India could not make it to Finals\n"
          ]
        }
      ]
    },
    {
      "cell_type": "code",
      "source": [
        "students_data = {1:['Sam', 24] , 2:['Sharma',25], 3:['Saina', 26], 4:['Saif',24], 5:['Varun',27]}\n",
        "for key, val in students_data.items():\n",
        "    print(key, val)"
      ],
      "metadata": {
        "colab": {
          "base_uri": "https://localhost:8080/"
        },
        "id": "jyL6acnEIqNt",
        "outputId": "99627599-690c-4f75-b85a-d2fb49d2e129"
      },
      "execution_count": null,
      "outputs": [
        {
          "output_type": "stream",
          "name": "stdout",
          "text": [
            "1 ['Sam', 24]\n",
            "2 ['Sharma', 25]\n",
            "3 ['Saina', 26]\n",
            "4 ['Saif', 24]\n",
            "5 ['Varun', 27]\n"
          ]
        }
      ]
    },
    {
      "cell_type": "code",
      "source": [
        "# iterate over keys of a dictionary\n",
        "for key in students_data.keys():\n",
        "    print(key)"
      ],
      "metadata": {
        "colab": {
          "base_uri": "https://localhost:8080/"
        },
        "id": "UrdZ5IVvIqLB",
        "outputId": "4319742f-a34f-4dc2-aa0b-89d441774732"
      },
      "execution_count": null,
      "outputs": [
        {
          "output_type": "stream",
          "name": "stdout",
          "text": [
            "1\n",
            "2\n",
            "3\n",
            "4\n",
            "5\n"
          ]
        }
      ]
    },
    {
      "cell_type": "code",
      "source": [
        "ch = \"\"\n",
        "while ch != \"quit\":\n",
        "    ch = input()\n",
        "    print(ch)"
      ],
      "metadata": {
        "colab": {
          "base_uri": "https://localhost:8080/"
        },
        "id": "R4oNyuLBIqGk",
        "outputId": "0632f93a-7ce4-41a7-d65c-10313270bb07"
      },
      "execution_count": null,
      "outputs": [
        {
          "output_type": "stream",
          "name": "stdout",
          "text": [
            "quit\n",
            "quit\n"
          ]
        }
      ]
    },
    {
      "cell_type": "code",
      "source": [
        "while True:\n",
        "    ch = input()\n",
        "    if ch == \"quit\":\n",
        "        break\n",
        "    print(ch)"
      ],
      "metadata": {
        "colab": {
          "base_uri": "https://localhost:8080/"
        },
        "id": "z_d7c7kYIqEG",
        "outputId": "8bbb68e9-2df2-490c-f612-69506dccaaa8"
      },
      "execution_count": null,
      "outputs": [
        {
          "name": "stdout",
          "output_type": "stream",
          "text": [
            "u\n",
            "u\n",
            "quit\n"
          ]
        }
      ]
    },
    {
      "cell_type": "code",
      "source": [
        "x = 0\n",
        "while x <=50 :\n",
        "    x += 3\n",
        "    if x % 5 == 0 :\n",
        "        continue   \n",
        "    print(x, end = \" \")"
      ],
      "metadata": {
        "colab": {
          "base_uri": "https://localhost:8080/"
        },
        "id": "MfZi92sXIqBx",
        "outputId": "8fd16bb5-e100-48b2-e083-ee276b31cde6"
      },
      "execution_count": null,
      "outputs": [
        {
          "output_type": "stream",
          "name": "stdout",
          "text": [
            "3 6 9 12 18 21 24 27 33 36 39 42 48 51 "
          ]
        }
      ]
    },
    {
      "cell_type": "code",
      "source": [
        "l1 = [\"automobiles\", \"Honda\", \"Benz\", \"Suzuki\", \"Morris Garages\" ]\n",
        "\n",
        "l2 = []\n",
        "\n",
        "for i in l1 :\n",
        "    l2.append(len(i))\n",
        "    \n",
        "l2 "
      ],
      "metadata": {
        "colab": {
          "base_uri": "https://localhost:8080/"
        },
        "id": "uootzinDIp_G",
        "outputId": "6a3c851c-e819-4dfc-9c3b-f665ee1d74f2"
      },
      "execution_count": null,
      "outputs": [
        {
          "output_type": "execute_result",
          "data": {
            "text/plain": [
              "[11, 5, 4, 6, 14]"
            ]
          },
          "metadata": {},
          "execution_count": 21
        }
      ]
    },
    {
      "cell_type": "code",
      "source": [
        "word = input(\"Enter a word : \")\n",
        "vowels = {i for i in word if i in \"aeiou\"}\n",
        "vowels"
      ],
      "metadata": {
        "colab": {
          "base_uri": "https://localhost:8080/"
        },
        "id": "8YuygxhSLFLJ",
        "outputId": "7db7760b-6f4a-4b40-e2f0-3aa3e811dd5d"
      },
      "execution_count": null,
      "outputs": [
        {
          "name": "stdout",
          "output_type": "stream",
          "text": [
            "Enter a word : aeroplane\n"
          ]
        },
        {
          "output_type": "execute_result",
          "data": {
            "text/plain": [
              "{'a', 'e', 'o'}"
            ]
          },
          "metadata": {},
          "execution_count": 22
        }
      ]
    },
    {
      "cell_type": "code",
      "source": [
        "# iterating over l1 and l2 simultaneaously\n",
        "\n",
        "for i,j in zip(l1,l2):\n",
        "    print(i, \" - \", j)"
      ],
      "metadata": {
        "colab": {
          "base_uri": "https://localhost:8080/"
        },
        "id": "zPkZmo7jKTCY",
        "outputId": "0429034c-9a30-453b-ea30-1b5fb1171fc4"
      },
      "execution_count": null,
      "outputs": [
        {
          "output_type": "stream",
          "name": "stdout",
          "text": [
            "automobiles  -  11\n",
            "Honda  -  5\n",
            "Benz  -  4\n",
            "Suzuki  -  6\n",
            "Morris Garages  -  14\n"
          ]
        }
      ]
    },
    {
      "cell_type": "code",
      "source": [
        "# Example on list comprehension\n",
        "\n",
        "l1 = [\"automobiles\", \"Honda\", \"Benz\", \"Suzuki\", \"Morris Garages\" ]\n",
        "\n",
        "# Create a list consisting of length of each element from the above list\n",
        "\n",
        "l2 = [len(i) for i in l1]\n",
        "\n",
        "print(l2)"
      ],
      "metadata": {
        "colab": {
          "base_uri": "https://localhost:8080/"
        },
        "id": "CV2KCVMCIp53",
        "outputId": "973f7579-da2b-41fc-d896-14acaca9a1d5"
      },
      "execution_count": null,
      "outputs": [
        {
          "output_type": "stream",
          "name": "stdout",
          "text": [
            "[11, 5, 4, 6, 14]\n"
          ]
        }
      ]
    },
    {
      "cell_type": "code",
      "execution_count": null,
      "metadata": {
        "colab": {
          "base_uri": "https://localhost:8080/"
        },
        "id": "_DAqyiQvjWUX",
        "outputId": "bc911399-8184-4127-af62-8c5e2c89e3c3"
      },
      "outputs": [
        {
          "output_type": "stream",
          "name": "stdout",
          "text": [
            "Input your passwordSweta23apr4\n",
            "Not a Valid Password\n"
          ]
        }
      ],
      "source": [
        "#Write a Python program to check the validity of password input by users. Go to the editor Validation\n",
        "\n",
        "'''\n",
        "At least 1 letter between [a-z] and 1 letter between [A-Z].\n",
        "At least 1 number between [0-9].\n",
        "At least 1 character from [$#@].\n",
        "Minimum length 6 characters.\n",
        "Maximum length 16 characters\n",
        "'''\n",
        "\n",
        "\n",
        "import re\n",
        "p= input(\"Input your password\")\n",
        "x = True\n",
        "while x:  \n",
        "    if (len(p)<6 or len(p)>12):\n",
        "        break\n",
        "    elif not re.search(\"[a-z]\",p):\n",
        "        break\n",
        "    elif not re.search(\"[0-9]\",p):\n",
        "        break\n",
        "    elif not re.search(\"[A-Z]\",p):\n",
        "        break\n",
        "    elif not re.search(\"[$#@]\",p):\n",
        "        break\n",
        "    elif re.search(\"\\s\",p):\n",
        "        break\n",
        "    else:\n",
        "        print(\"Valid Password\")\n",
        "        x=False\n",
        "        break\n",
        "\n",
        "if x:\n",
        "    print(\"Not a Valid Password\")"
      ]
    },
    {
      "cell_type": "code",
      "source": [
        "#Write a Python program to find numbers between 100 and 400 (both included) where each digit of a number is an even number. The numbers obtained should be printed in a comma-separated sequence.\n",
        "items = []\n",
        "for i in range(100, 401):\n",
        "    s = str(i)\n",
        "    if (int(s[0])%2==0) and (int(s[1])%2==0) and (int(s[2])%2==0):\n",
        "        items.append(s)\n",
        "print( \",\".join(items))"
      ],
      "metadata": {
        "colab": {
          "base_uri": "https://localhost:8080/"
        },
        "id": "GZQW8WRPjjfO",
        "outputId": "3855cfa1-58fe-4aac-d3ec-4d7acdbcba80"
      },
      "execution_count": null,
      "outputs": [
        {
          "output_type": "stream",
          "name": "stdout",
          "text": [
            "200,202,204,206,208,220,222,224,226,228,240,242,244,246,248,260,262,264,266,268,280,282,284,286,288,400\n"
          ]
        }
      ]
    },
    {
      "cell_type": "code",
      "source": [
        "nl=[]\n",
        "for x in range(1500, 2701):\n",
        "    if (x%7==0) and (x%5==0):\n",
        "        nl.append(str(x))\n",
        "print (nl)"
      ],
      "metadata": {
        "id": "NjXOloPMjjsI",
        "colab": {
          "base_uri": "https://localhost:8080/"
        },
        "outputId": "cd64ee2c-ac35-4a89-b5be-b18167da8be0"
      },
      "execution_count": null,
      "outputs": [
        {
          "output_type": "stream",
          "name": "stdout",
          "text": [
            "['1505', '1540', '1575', '1610', '1645', '1680', '1715', '1750', '1785', '1820', '1855', '1890', '1925', '1960', '1995', '2030', '2065', '2100', '2135', '2170', '2205', '2240', '2275', '2310', '2345', '2380', '2415', '2450', '2485', '2520', '2555', '2590', '2625', '2660', '2695']\n"
          ]
        }
      ]
    },
    {
      "cell_type": "code",
      "source": [
        "nl=[]\n",
        "for x in range(1500, 2701):\n",
        "    if (x%7==0) and (x%5==0):\n",
        "        nl.append(str(x))\n",
        "print (','.join(nl))"
      ],
      "metadata": {
        "colab": {
          "base_uri": "https://localhost:8080/"
        },
        "id": "lKvLgWNEVirh",
        "outputId": "8acaf38d-3b15-4ef8-cedf-4a30fbdaf7e1"
      },
      "execution_count": null,
      "outputs": [
        {
          "output_type": "stream",
          "name": "stdout",
          "text": [
            "1505,1540,1575,1610,1645,1680,1715,1750,1785,1820,1855,1890,1925,1960,1995,2030,2065,2100,2135,2170,2205,2240,2275,2310,2345,2380,2415,2450,2485,2520,2555,2590,2625,2660,2695\n"
          ]
        }
      ]
    },
    {
      "cell_type": "code",
      "source": [
        "#Find Excel column name from a given column number\n",
        "\n",
        "alpha = 'ABCDEFGHIJKLMNOPQRSTUVWXYZ'\n",
        "def num_hash(num):\n",
        "    if num < 26:\n",
        "        return alpha[num-1]\n",
        "    else:\n",
        "        q, r = num//26, num % 26\n",
        "        if r == 0:\n",
        "            if q == 1:\n",
        "                return alpha[r-1]\n",
        "            else:\n",
        "                return num_hash(q-1) + alpha[r-1]\n",
        "            return num_hash(q) + alpha[r-1]\n",
        "num_hash(10)"
      ],
      "metadata": {
        "id": "-gbd29E9W1zE"
      },
      "execution_count": null,
      "outputs": []
    },
    {
      "cell_type": "code",
      "source": [
        "num = 75869\n",
        "count = 0\n",
        "while num != 0:\n",
        "    # floor division\n",
        "    # to reduce the last digit from number\n",
        "    num = num // 10\n",
        "\n",
        "    # increment counter by 1\n",
        "    count = count + 1\n",
        "print(\"Total digits are:\", count)"
      ],
      "metadata": {
        "id": "27P7eOmQJ5HL",
        "colab": {
          "base_uri": "https://localhost:8080/"
        },
        "outputId": "3a765e48-0552-4750-a7d7-abdff03e1852"
      },
      "execution_count": null,
      "outputs": [
        {
          "output_type": "stream",
          "name": "stdout",
          "text": [
            "Total digits are: 5\n"
          ]
        }
      ]
    },
    {
      "cell_type": "code",
      "source": [
        "# first two numbers\n",
        "num1, num2 = 0, 1\n",
        "\n",
        "print(\"Fibonacci sequence:\")\n",
        "# run loop 10 times\n",
        "for i in range(10):\n",
        "    # print next number of a series\n",
        "    print(num1, end=\"  \")\n",
        "    # add last two numbers to get next number\n",
        "    res = num1 + num2\n",
        "\n",
        "    # update values\n",
        "    num1 = num2\n",
        "    num2 = res"
      ],
      "metadata": {
        "id": "2AwnFaiYPs0P",
        "colab": {
          "base_uri": "https://localhost:8080/"
        },
        "outputId": "9661f340-68c8-46b4-ada4-96917a517040"
      },
      "execution_count": null,
      "outputs": [
        {
          "output_type": "stream",
          "name": "stdout",
          "text": [
            "Fibonacci sequence:\n",
            "0  1  1  2  3  5  8  13  21  34  "
          ]
        }
      ]
    },
    {
      "cell_type": "code",
      "source": [
        "n = 5\n",
        "# first number of sequence\n",
        "start = 2\n",
        "sum_seq = 0\n",
        "\n",
        "# run loop n times\n",
        "for i in range(0, n):\n",
        "    print(start, end=\"+\")\n",
        "    sum_seq += start\n",
        "    # calculate the next term\n",
        "    start = start * 10 + 2\n",
        "print(\"\\nSum of above series is:\", sum_seq)"
      ],
      "metadata": {
        "id": "lzgXyjjaQTh1",
        "colab": {
          "base_uri": "https://localhost:8080/"
        },
        "outputId": "73c6f30f-9426-4655-bb15-72f9a5d9c80b"
      },
      "execution_count": null,
      "outputs": [
        {
          "output_type": "stream",
          "name": "stdout",
          "text": [
            "2+22+222+2222+22222+\n",
            "Sum of above series is: 24690\n"
          ]
        }
      ]
    },
    {
      "cell_type": "code",
      "source": [
        "print(\"Number Pattern \")\n",
        "\n",
        "# Decide the row count. (above pattern contains 5 rows)\n",
        "row = 5\n",
        "# start: 1\n",
        "# stop: row+1 (range never include stop number in result)\n",
        "# step: 1\n",
        "# run loop 5 times\n",
        "for i in range(1, row + 1, 1):\n",
        "    # Run inner loop i+1 times\n",
        "    for j in range(1, i + 1):\n",
        "        print(j, end=' ')\n",
        "    # empty line after each row\n",
        "    print(\"\")"
      ],
      "metadata": {
        "id": "Q930AUIGW11j",
        "colab": {
          "base_uri": "https://localhost:8080/"
        },
        "outputId": "60f25383-d533-476d-fdf4-e11c6ca5bdd5"
      },
      "execution_count": null,
      "outputs": [
        {
          "output_type": "stream",
          "name": "stdout",
          "text": [
            "Number Pattern \n",
            "1 \n",
            "1 2 \n",
            "1 2 3 \n",
            "1 2 3 4 \n",
            "1 2 3 4 5 \n"
          ]
        }
      ]
    },
    {
      "cell_type": "code",
      "source": [
        "n = 5\n",
        "k = 5\n",
        "for i in range(0,n+1):\n",
        "    for j in range(k-i,0,-1):\n",
        "        print(j,end=' ')\n",
        "    print()"
      ],
      "metadata": {
        "id": "rjMM_X-xP1Uc",
        "colab": {
          "base_uri": "https://localhost:8080/"
        },
        "outputId": "5e2e27d9-072c-4d32-c9d5-1765ece4efab"
      },
      "execution_count": null,
      "outputs": [
        {
          "output_type": "stream",
          "name": "stdout",
          "text": [
            "5 4 3 2 1 \n",
            "4 3 2 1 \n",
            "3 2 1 \n",
            "2 1 \n",
            "1 \n",
            "\n"
          ]
        }
      ]
    },
    {
      "cell_type": "code",
      "source": [
        "\n",
        "\n",
        "row=15    \n",
        "col=18   \n",
        "result_str=\"\"    \n",
        "for i in range(1,row+1):    \n",
        "    if((i<=3)or(i>=7 and i<=9)or(i>=13 and i<=15)):    \n",
        "        for j in range(1,col):    \n",
        "            result_str=result_str+\"o\"    \n",
        "        result_str=result_str+\"\\n\"    \n",
        "    elif(i>=4 and i<=6):    \n",
        "        for j in range(1,5):    \n",
        "            result_str=result_str+\"o\"    \n",
        "        result_str=result_str+\"\\n\"    \n",
        "    else:    \n",
        "        for j in range(1,14):    \n",
        "            result_str=result_str+\" \"    \n",
        "        for j in range(1,5):    \n",
        "            result_str=result_str+\"o\"    \n",
        "        result_str=result_str+\"\\n\"    \n",
        "print(result_str);"
      ],
      "metadata": {
        "id": "3tUCk050jjpm",
        "colab": {
          "base_uri": "https://localhost:8080/"
        },
        "outputId": "8d79c8b0-3f54-4e55-94d8-b0559b556376"
      },
      "execution_count": null,
      "outputs": [
        {
          "output_type": "stream",
          "name": "stdout",
          "text": [
            "ooooooooooooooooo\n",
            "ooooooooooooooooo\n",
            "ooooooooooooooooo\n",
            "oooo\n",
            "oooo\n",
            "oooo\n",
            "ooooooooooooooooo\n",
            "ooooooooooooooooo\n",
            "ooooooooooooooooo\n",
            "             oooo\n",
            "             oooo\n",
            "             oooo\n",
            "ooooooooooooooooo\n",
            "ooooooooooooooooo\n",
            "ooooooooooooooooo\n",
            "\n"
          ]
        }
      ]
    },
    {
      "cell_type": "code",
      "source": [
        "\n",
        "result_str=\"\";    \n",
        "for row in range(0,7):    \n",
        "    for column in range(0,7):     \n",
        "        if (column == 1 or ((row == 0 or row == 6) and (column > 1 and column < 6)) or (row == 3 and column > 1 and column < 5)):  \n",
        "            result_str=result_str+\"*\"    \n",
        "        else:      \n",
        "            result_str=result_str+\" \"    \n",
        "    result_str=result_str+\"\\n\"    \n",
        "print(result_str);"
      ],
      "metadata": {
        "id": "SQtUuCVwjjnl",
        "colab": {
          "base_uri": "https://localhost:8080/"
        },
        "outputId": "6e6fc4d3-c77d-4609-d149-b5700ebacdd3"
      },
      "execution_count": null,
      "outputs": [
        {
          "output_type": "stream",
          "name": "stdout",
          "text": [
            " ***** \n",
            " *     \n",
            " *     \n",
            " ****  \n",
            " *     \n",
            " *     \n",
            " ***** \n",
            "\n"
          ]
        }
      ]
    },
    {
      "cell_type": "code",
      "source": [
        "result_str=\"\";    \n",
        "for row in range(0,7):    \n",
        "    for column in range(0,7):     \n",
        "        if (column == 3 or (row == 0 and column > 0 and column <6)):  \n",
        "            result_str=result_str+\"*\"    \n",
        "        else:      \n",
        "            result_str=result_str+\" \"    \n",
        "    result_str=result_str+\"\\n\"    \n",
        "print(result_str);"
      ],
      "metadata": {
        "id": "93SrF264jjkm",
        "colab": {
          "base_uri": "https://localhost:8080/"
        },
        "outputId": "2481802d-03df-4963-c3b6-0ad0738d6cda"
      },
      "execution_count": null,
      "outputs": [
        {
          "output_type": "stream",
          "name": "stdout",
          "text": [
            " ***** \n",
            "   *   \n",
            "   *   \n",
            "   *   \n",
            "   *   \n",
            "   *   \n",
            "   *   \n",
            "\n"
          ]
        }
      ]
    },
    {
      "cell_type": "code",
      "source": [
        "result_str=\"\";    \n",
        "for row in range(0,7):    \n",
        "    for column in range(0,7):     \n",
        "        if (((column == 1 or column == 5) and row != 0) or ((row == 0 or row == 3) and (column > 1 and column < 5))):    \n",
        "            result_str=result_str+\"*\"    \n",
        "        else:      \n",
        "            result_str=result_str+\" \"    \n",
        "    result_str=result_str+\"\\n\"    \n",
        "print(result_str);"
      ],
      "metadata": {
        "id": "rDpk1IJ8jjh6",
        "colab": {
          "base_uri": "https://localhost:8080/"
        },
        "outputId": "ec7b8f70-50ca-4188-ff04-c5048f3c07c9"
      },
      "execution_count": null,
      "outputs": [
        {
          "output_type": "stream",
          "name": "stdout",
          "text": [
            "  ***  \n",
            " *   * \n",
            " *   * \n",
            " ***** \n",
            " *   * \n",
            " *   * \n",
            " *   * \n",
            "\n"
          ]
        }
      ]
    },
    {
      "cell_type": "code",
      "source": [],
      "metadata": {
        "id": "D_k6o5YxOo8D"
      },
      "execution_count": null,
      "outputs": []
    }
  ]
}