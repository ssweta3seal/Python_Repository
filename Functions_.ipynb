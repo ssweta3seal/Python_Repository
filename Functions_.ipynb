{
  "nbformat": 4,
  "nbformat_minor": 0,
  "metadata": {
    "colab": {
      "provenance": [],
      "authorship_tag": "ABX9TyMJdiiY9d1djlPi2ZtlMcl3",
      "include_colab_link": true
    },
    "kernelspec": {
      "name": "python3",
      "display_name": "Python 3"
    },
    "language_info": {
      "name": "python"
    }
  },
  "cells": [
    {
      "cell_type": "markdown",
      "metadata": {
        "id": "view-in-github",
        "colab_type": "text"
      },
      "source": [
        "<a href=\"https://colab.research.google.com/github/ssweta3seal/Python_Repository/blob/main/Functions_.ipynb\" target=\"_parent\"><img src=\"https://colab.research.google.com/assets/colab-badge.svg\" alt=\"Open In Colab\"/></a>"
      ]
    },
    {
      "cell_type": "markdown",
      "source": [
        "# **Functions**"
      ],
      "metadata": {
        "id": "NO3aS6BDMEtt"
      }
    },
    {
      "cell_type": "code",
      "execution_count": null,
      "metadata": {
        "id": "r49FS-x9Eo5l",
        "colab": {
          "base_uri": "https://localhost:8080/"
        },
        "outputId": "9e09ec9a-ed9e-40c9-c130-2a15e656c8d7"
      },
      "outputs": [
        {
          "output_type": "execute_result",
          "data": {
            "text/plain": [
              "120"
            ]
          },
          "metadata": {},
          "execution_count": 1
        }
      ],
      "source": [
        "def factorial(n):\n",
        "    \n",
        "    fact = 1\n",
        "    \n",
        "    for i in range(1, n+1):\n",
        "        fact *= i\n",
        "    \n",
        "    return fact\n",
        "\n",
        "factorial(5)"
      ]
    },
    {
      "cell_type": "code",
      "source": [
        "def func(name, age = 35, city = \"Mumbai\"):\n",
        "    print(\"name : \", name)\n",
        "    print(\"age : \", age)\n",
        "    print(\"city : \", city)\n",
        "    \n",
        "func(\"Jane\", city = \"Banglore\")"
      ],
      "metadata": {
        "id": "TO4QqaTPE1T-",
        "colab": {
          "base_uri": "https://localhost:8080/"
        },
        "outputId": "36649114-20ce-407c-c676-5629f2c212f3"
      },
      "execution_count": null,
      "outputs": [
        {
          "output_type": "stream",
          "name": "stdout",
          "text": [
            "name :  Jane\n",
            "age :  35\n",
            "city :  Banglore\n"
          ]
        }
      ]
    },
    {
      "cell_type": "code",
      "source": [
        "def swap_case(s): \n",
        "  swap=s.swapcase() \n",
        "  return swap\n",
        "  print(s)  \n",
        "  \n",
        "s=\"HackerRank.com presents Pythonist 2\""
      ],
      "metadata": {
        "id": "W8D6kslFfcPg"
      },
      "execution_count": null,
      "outputs": []
    },
    {
      "cell_type": "code",
      "source": [
        "# Write a lambda funtion to check a number is even or odd\n",
        "\n",
        "f = lambda x: \"even\" if x % 2 == 0 else \"odd\"\n",
        "\n",
        "f(10)"
      ],
      "metadata": {
        "id": "dau-HRUsix9T",
        "colab": {
          "base_uri": "https://localhost:8080/",
          "height": 36
        },
        "outputId": "c6a7910f-73f6-400d-8f3d-61c60296c591"
      },
      "execution_count": null,
      "outputs": [
        {
          "output_type": "execute_result",
          "data": {
            "text/plain": [
              "'even'"
            ],
            "application/vnd.google.colaboratory.intrinsic+json": {
              "type": "string"
            }
          },
          "metadata": {},
          "execution_count": 4
        }
      ]
    },
    {
      "cell_type": "code",
      "source": [
        "f = lambda x, y : x + y\n",
        "\n",
        "f(2,5)"
      ],
      "metadata": {
        "colab": {
          "base_uri": "https://localhost:8080/"
        },
        "id": "0uXPSWK-MpOL",
        "outputId": "f6d1c13a-7d54-4c57-9d4f-1c4c477c333f"
      },
      "execution_count": null,
      "outputs": [
        {
          "output_type": "execute_result",
          "data": {
            "text/plain": [
              "7"
            ]
          },
          "metadata": {},
          "execution_count": 5
        }
      ]
    },
    {
      "cell_type": "markdown",
      "source": [
        "# map-filter-reduce"
      ],
      "metadata": {
        "id": "2yQr6vF1M0St"
      }
    },
    {
      "cell_type": "code",
      "source": [
        "countries = [\"India\", \"Japan\", \"Italy\", \"France\"]\n",
        "list(map(lambda x : x.upper(), countries))\n"
      ],
      "metadata": {
        "colab": {
          "base_uri": "https://localhost:8080/"
        },
        "id": "-Mn7aJhhMryE",
        "outputId": "8b1229aa-3188-4177-997b-37730754ad84"
      },
      "execution_count": null,
      "outputs": [
        {
          "output_type": "execute_result",
          "data": {
            "text/plain": [
              "['INDIA', 'JAPAN', 'ITALY', 'FRANCE']"
            ]
          },
          "metadata": {},
          "execution_count": 7
        }
      ]
    },
    {
      "cell_type": "code",
      "source": [
        "# filter the countries names starting with \"I\"\n",
        "list(filter(lambda x : x.startswith(\"I\"), countries))\n"
      ],
      "metadata": {
        "id": "7ddys01eNEld"
      },
      "execution_count": null,
      "outputs": []
    },
    {
      "cell_type": "code",
      "source": [
        "#reduce the list to concatante the countries names into a single string variable seperated by \" \"\n",
        "\n",
        "from functools import reduce\n",
        "\n",
        "reduce(lambda x, y : x + \" \" + y, countries)"
      ],
      "metadata": {
        "colab": {
          "base_uri": "https://localhost:8080/",
          "height": 36
        },
        "id": "zmyZJjvwNcuZ",
        "outputId": "b36a3b3f-ceb2-4d12-a351-9fc22cd1606e"
      },
      "execution_count": null,
      "outputs": [
        {
          "output_type": "execute_result",
          "data": {
            "text/plain": [
              "'India Japan Italy France'"
            ],
            "application/vnd.google.colaboratory.intrinsic+json": {
              "type": "string"
            }
          },
          "metadata": {},
          "execution_count": 9
        }
      ]
    },
    {
      "cell_type": "code",
      "source": [
        "# Some more examples on map - filter - reduce\n",
        "L1 = [2,4,5]\n",
        "print(map(lambda x: x**2, L1))\n",
        "print(list(map(lambda x: x**2, L1)))"
      ],
      "metadata": {
        "id": "ml4hv8R2Nw62"
      },
      "execution_count": null,
      "outputs": []
    },
    {
      "cell_type": "code",
      "source": [
        "L1 = [2,4,5]\n",
        "def squareit(n):\n",
        "    return n**2\n",
        "\n",
        "print(list(map(squareit, L1)))"
      ],
      "metadata": {
        "colab": {
          "base_uri": "https://localhost:8080/"
        },
        "id": "ELFJbZ0MN0Ne",
        "outputId": "8c2ba18f-ae9b-4324-ba9f-0f5ec1537f43"
      },
      "execution_count": null,
      "outputs": [
        {
          "output_type": "stream",
          "name": "stdout",
          "text": [
            "[4, 16, 25]\n"
          ]
        }
      ]
    },
    {
      "cell_type": "code",
      "source": [
        "my_list = [3,4,5,6,7,8,9]\n",
        "\n",
        "divby3 = lambda x:  x % 3 == 0\n",
        "\n",
        "div = filter(divby3, my_list)\n",
        "print(list(div))\n"
      ],
      "metadata": {
        "colab": {
          "base_uri": "https://localhost:8080/"
        },
        "id": "OVkPFlk1N5n-",
        "outputId": "a0990ebd-392e-41ec-b712-3c55e20ac963"
      },
      "execution_count": null,
      "outputs": [
        {
          "output_type": "stream",
          "name": "stdout",
          "text": [
            "[3, 6, 9]\n"
          ]
        }
      ]
    },
    {
      "cell_type": "code",
      "source": [
        "# Ex. Write a python program to count the students above age 18\n",
        "\n",
        "students_data = {1:['Sam', 15] , 2:['Sharma',18], 3:['Saina', 16], 4:['Saif',19], 5:['Varun',20]}\n",
        "\n",
        "len(list(filter(lambda x : x[1] > 18, students_data.values())))"
      ],
      "metadata": {
        "colab": {
          "base_uri": "https://localhost:8080/"
        },
        "id": "fEZvu5SwN-CJ",
        "outputId": "f0fc71fd-c449-456d-c397-558868a64776"
      },
      "execution_count": null,
      "outputs": [
        {
          "output_type": "execute_result",
          "data": {
            "text/plain": [
              "2"
            ]
          },
          "metadata": {},
          "execution_count": 12
        }
      ]
    },
    {
      "cell_type": "code",
      "source": [
        "# Reduce to return product of elements\n",
        "from functools import reduce\n",
        "\n",
        "q  = reduce(lambda x, y: x*y, range(1,4))\n",
        "\n",
        "print(q)"
      ],
      "metadata": {
        "colab": {
          "base_uri": "https://localhost:8080/"
        },
        "id": "9NU7e8vjN9_A",
        "outputId": "c0dcc787-297a-4c95-b6f4-6b2544e42520"
      },
      "execution_count": null,
      "outputs": [
        {
          "output_type": "stream",
          "name": "stdout",
          "text": [
            "6\n"
          ]
        }
      ]
    },
    {
      "cell_type": "code",
      "source": [],
      "metadata": {
        "colab": {
          "base_uri": "https://localhost:8080/"
        },
        "id": "uk48DM_jN98e",
        "outputId": "7f5fe524-a767-4281-de0e-1d994e7caeb2"
      },
      "execution_count": null,
      "outputs": [
        {
          "output_type": "stream",
          "name": "stdout",
          "text": [
            "[3, 6, 9]\n"
          ]
        }
      ]
    },
    {
      "cell_type": "code",
      "source": [],
      "metadata": {
        "id": "yfqFNG9lN952"
      },
      "execution_count": null,
      "outputs": []
    }
  ]
}